{
 "cells": [
  {
   "cell_type": "code",
   "execution_count": 1,
   "id": "38606a24-dc9e-40f3-931f-581d5a470456",
   "metadata": {},
   "outputs": [],
   "source": [
    "# Numpy Assignment"
   ]
  },
  {
   "cell_type": "code",
   "execution_count": 2,
   "id": "74d3b986-fc76-4cd0-8cac-c637ec57adf1",
   "metadata": {},
   "outputs": [],
   "source": [
    "import numpy as np"
   ]
  },
  {
   "cell_type": "code",
   "execution_count": 3,
   "id": "cbdd618a-aca8-4e8c-b722-68d56e3f87f1",
   "metadata": {},
   "outputs": [],
   "source": [
    "# Q.1"
   ]
  },
  {
   "cell_type": "code",
   "execution_count": 4,
   "id": "c5e94aeb-0205-4306-8b0b-03ed92b345f2",
   "metadata": {},
   "outputs": [
    {
     "name": "stdout",
     "output_type": "stream",
     "text": [
      "[  1   7  13 105]\n",
      "Total memory in bytes:32\n"
     ]
    }
   ],
   "source": [
    "arr = np.array([1, 7, 13, 105])\n",
    "print(arr)\n",
    "print(f\"Total memory in bytes:{arr.nbytes}\")"
   ]
  },
  {
   "cell_type": "code",
   "execution_count": 6,
   "id": "8334842e-554a-4958-ad15-3020c6295689",
   "metadata": {},
   "outputs": [],
   "source": [
    "# Q.3"
   ]
  },
  {
   "cell_type": "code",
   "execution_count": 7,
   "id": "15ccd817-ec83-4b21-a3c9-5d7e90eb8a76",
   "metadata": {},
   "outputs": [
    {
     "name": "stdout",
     "output_type": "stream",
     "text": [
      "[0. 0. 0. 0. 0. 0. 0. 0. 0. 0.]\n"
     ]
    }
   ],
   "source": [
    "a1 = np.zeros(10)\n",
    "print(a1)"
   ]
  },
  {
   "cell_type": "code",
   "execution_count": 8,
   "id": "c4941472-7a46-4705-b7b2-31fa4bd1ebff",
   "metadata": {},
   "outputs": [
    {
     "name": "stdout",
     "output_type": "stream",
     "text": [
      "[1. 1. 1. 1. 1. 1. 1. 1. 1. 1.]\n"
     ]
    }
   ],
   "source": [
    "a2 = np.ones(10)\n",
    "print(a2)"
   ]
  },
  {
   "cell_type": "code",
   "execution_count": 15,
   "id": "1917defe-ceca-46eb-8f4c-025a107ef161",
   "metadata": {},
   "outputs": [
    {
     "name": "stdout",
     "output_type": "stream",
     "text": [
      "[5. 5. 5. 5. 5. 5. 5. 5. 5. 5.]\n"
     ]
    }
   ],
   "source": [
    "a3 = a2*5\n",
    "print(a3)"
   ]
  },
  {
   "cell_type": "code",
   "execution_count": 16,
   "id": "a62e99a9-bbef-4b97-8055-5e9d9064b73b",
   "metadata": {},
   "outputs": [
    {
     "name": "stdout",
     "output_type": "stream",
     "text": [
      "[10. 10. 10. 10. 10. 10. 10. 10. 10. 10.]\n"
     ]
    }
   ],
   "source": [
    "print(a3*2)"
   ]
  },
  {
   "cell_type": "code",
   "execution_count": 17,
   "id": "d9a140e4-66d8-4013-b1a3-64393ef171b0",
   "metadata": {},
   "outputs": [
    {
     "name": "stdout",
     "output_type": "stream",
     "text": [
      "[20. 20. 20. 20. 20. 20. 20. 20. 20. 20.]\n"
     ]
    }
   ],
   "source": [
    "print(a3*4)"
   ]
  },
  {
   "cell_type": "code",
   "execution_count": 18,
   "id": "3f2bfa54-978f-41cf-897c-dd07cbb7723a",
   "metadata": {},
   "outputs": [
    {
     "name": "stdout",
     "output_type": "stream",
     "text": [
      "[50. 50. 50. 50. 50. 50. 50. 50. 50. 50.]\n"
     ]
    }
   ],
   "source": [
    "print(a3*10)"
   ]
  },
  {
   "cell_type": "code",
   "execution_count": 19,
   "id": "0a0a1159-d2fc-4bd3-81b1-7f4d43943de3",
   "metadata": {},
   "outputs": [],
   "source": [
    "# Q.4"
   ]
  },
  {
   "cell_type": "code",
   "execution_count": 23,
   "id": "d96287c6-db26-45cc-9116-9ba98141103a",
   "metadata": {},
   "outputs": [
    {
     "name": "stdout",
     "output_type": "stream",
     "text": [
      "[30 31 32 33 34 35 36 37 38 39 40 41 42 43 44 45 46 47 48 49 50 51 52 53\n",
      " 54 55 56 57 58 59 60 61 62 63 64 65 66 67 68 69 70]\n"
     ]
    }
   ],
   "source": [
    "n1 = np.arange(30,71)\n",
    "print(n1)"
   ]
  },
  {
   "cell_type": "code",
   "execution_count": null,
   "id": "5fb20ddf-7797-47e8-a861-0c91c0778f45",
   "metadata": {},
   "outputs": [],
   "source": [
    "# Q.5"
   ]
  },
  {
   "cell_type": "code",
   "execution_count": 24,
   "id": "cd9700f0-7fda-4afe-9488-9a77dab9c6b9",
   "metadata": {},
   "outputs": [
    {
     "name": "stdout",
     "output_type": "stream",
     "text": [
      "[50 51 52 53 54 55 56 57 58 59 60 61 62 63 64 65 66 67 68 69 70 71 72 73\n",
      " 74 75 76 77 78 79 80 81 82 83 84 85 86 87 88 89 90 91 92 93 94 95]\n"
     ]
    }
   ],
   "source": [
    "n2 = np.arange(50,96)\n",
    "print(n2)"
   ]
  },
  {
   "cell_type": "code",
   "execution_count": null,
   "id": "24c33253-9485-4219-9b1b-b771e2a5c9dc",
   "metadata": {},
   "outputs": [],
   "source": [
    "# Q.6"
   ]
  },
  {
   "cell_type": "code",
   "execution_count": 25,
   "id": "4352f898-9b1c-44f9-b086-adec6cd73c49",
   "metadata": {},
   "outputs": [
    {
     "name": "stdout",
     "output_type": "stream",
     "text": [
      "[20 22 24 26 28 30 32 34 36 38 40 42 44 46 48 50 52 54 56 58 60 62 64 66\n",
      " 68 70 72 74 76 78 80]\n"
     ]
    }
   ],
   "source": [
    "n3 = np.arange(20,81,2)\n",
    "print(n3)"
   ]
  },
  {
   "cell_type": "code",
   "execution_count": null,
   "id": "118f6f18-b644-4c17-b768-632ed595a6bb",
   "metadata": {},
   "outputs": [],
   "source": [
    "# Q.7"
   ]
  },
  {
   "cell_type": "code",
   "execution_count": 26,
   "id": "6c54dca1-c5f3-4b66-bb6e-c551f61029e3",
   "metadata": {},
   "outputs": [
    {
     "name": "stdout",
     "output_type": "stream",
     "text": [
      "[21 23 25 27 29 31 33 35 37 39 41 43 45 47 49 51 53 55 57 59 61 63 65 67\n",
      " 69 71 73 75 77 79]\n"
     ]
    }
   ],
   "source": [
    "n4 = np.arange(21,80,2)\n",
    "print(n4)"
   ]
  },
  {
   "cell_type": "code",
   "execution_count": null,
   "id": "7a0251c8-774c-4c33-b668-64f329eda6ea",
   "metadata": {},
   "outputs": [],
   "source": [
    "# Q.8"
   ]
  },
  {
   "cell_type": "code",
   "execution_count": 27,
   "id": "bd8cbb13-2825-44d9-93e3-ce214c6bf969",
   "metadata": {},
   "outputs": [
    {
     "name": "stdout",
     "output_type": "stream",
     "text": [
      "[24 20 25 20 25 35 30 30 28 32 23 31 21 28 34]\n"
     ]
    }
   ],
   "source": [
    "n5 = np.random.randint(10,40,15)\n",
    "print(n5)"
   ]
  },
  {
   "cell_type": "code",
   "execution_count": null,
   "id": "d74ffc0f-11e6-457a-a1b4-5a70a1e2424f",
   "metadata": {},
   "outputs": [],
   "source": [
    "# Q.9"
   ]
  },
  {
   "cell_type": "code",
   "execution_count": 28,
   "id": "7f942f72-88a8-4e84-805a-a088920f9c32",
   "metadata": {},
   "outputs": [
    {
     "name": "stdout",
     "output_type": "stream",
     "text": [
      "[30 35 48 47 46 41 33 30 48 37]\n"
     ]
    }
   ],
   "source": [
    "n5 = np.random.randint(30,50,10)\n",
    "print(n5)"
   ]
  },
  {
   "cell_type": "code",
   "execution_count": null,
   "id": "7078095a-19ad-466c-bacb-45a387e77848",
   "metadata": {},
   "outputs": [],
   "source": [
    "# Q.10"
   ]
  },
  {
   "cell_type": "code",
   "execution_count": 29,
   "id": "db49fc57-cdd3-4b84-8211-c28ec928dc87",
   "metadata": {},
   "outputs": [
    {
     "name": "stdout",
     "output_type": "stream",
     "text": [
      "[65 88 65 59 84 60 60 69 67 66 67 55 70 53 78 85 78 63 74 50]\n"
     ]
    }
   ],
   "source": [
    "n5 = np.random.randint(50,90,20)\n",
    "print(n5)"
   ]
  },
  {
   "cell_type": "code",
   "execution_count": null,
   "id": "7e082ef8-91d3-493f-940d-62899aaeaf6c",
   "metadata": {},
   "outputs": [],
   "source": [
    "# Q.11"
   ]
  },
  {
   "cell_type": "code",
   "execution_count": 31,
   "id": "660d730b-52cc-42eb-b8d4-5b7b612eb18e",
   "metadata": {},
   "outputs": [
    {
     "name": "stdout",
     "output_type": "stream",
     "text": [
      "[10 20 30 40]\n",
      "[1 2 3 4]\n",
      "[11 22 33 44]\n",
      "[ 10  40  90 160]\n",
      "[ 9 18 27 36]\n",
      "[10. 10. 10. 10.]\n"
     ]
    }
   ],
   "source": [
    "a1 = np.array([10,20,30,40])\n",
    "a2 = np.array([1,2,3,4])\n",
    "print(a1)\n",
    "print(a2)\n",
    "print(a1+a2)\n",
    "print(a1*a2)\n",
    "print(a1-a2)\n",
    "print(a1/a2)"
   ]
  },
  {
   "cell_type": "code",
   "execution_count": null,
   "id": "21e75a5b-51dd-4e49-97a2-08a7a2415089",
   "metadata": {},
   "outputs": [],
   "source": [
    "# Q.12"
   ]
  },
  {
   "cell_type": "code",
   "execution_count": 37,
   "id": "cd7637ea-efe0-473c-842e-44976804c96f",
   "metadata": {},
   "outputs": [
    {
     "name": "stdout",
     "output_type": "stream",
     "text": [
      "[[10 11 12 13]\n",
      " [14 15 16 17]\n",
      " [18 19 20 21]]\n"
     ]
    }
   ],
   "source": [
    "n1 = np.arange(10,22)\n",
    "n1 = n1.reshape(3,4)\n",
    "print(n1)"
   ]
  },
  {
   "cell_type": "code",
   "execution_count": null,
   "id": "257e307f-00e2-445a-be73-ccaea35337fd",
   "metadata": {},
   "outputs": [],
   "source": [
    "# Q.13"
   ]
  },
  {
   "cell_type": "code",
   "execution_count": 42,
   "id": "ff58fb95-9fe5-40b8-8438-dbd4a560abf3",
   "metadata": {},
   "outputs": [
    {
     "name": "stdout",
     "output_type": "stream",
     "text": [
      "[[1. 0. 0.]\n",
      " [0. 1. 0.]\n",
      " [0. 0. 1.]]\n"
     ]
    }
   ],
   "source": [
    "n2 = np.eye(3)\n",
    "print(n2)"
   ]
  },
  {
   "cell_type": "code",
   "execution_count": null,
   "id": "6e8a88b8-a9f9-4fcf-b081-621ac84b47ff",
   "metadata": {},
   "outputs": [],
   "source": [
    "# Q.14"
   ]
  },
  {
   "cell_type": "code",
   "execution_count": 44,
   "id": "8e65f190-b7b6-4375-a6d2-06350ef4d019",
   "metadata": {},
   "outputs": [
    {
     "name": "stdout",
     "output_type": "stream",
     "text": [
      "Given Matrix :\n",
      "[[10 11 12 13]\n",
      " [14 15 16 17]\n",
      " [18 19 20 21]]\n",
      "No. of rows and columns in given matrix : (3, 4)\n"
     ]
    }
   ],
   "source": [
    "n1 = np.arange(10,22).reshape(3,4)\n",
    "print(\"Given Matrix :\")\n",
    "print(n1)\n",
    "print(f\"No. of rows and columns in given matrix : {n1.shape}\")\n"
   ]
  },
  {
   "cell_type": "code",
   "execution_count": null,
   "id": "de4e133c-dec4-441a-8e81-f5d634e47d5b",
   "metadata": {},
   "outputs": [],
   "source": [
    "# Q.15"
   ]
  },
  {
   "cell_type": "code",
   "execution_count": 45,
   "id": "0f856b78-40a1-41d0-bc1e-7736d476c1b5",
   "metadata": {},
   "outputs": [
    {
     "name": "stdout",
     "output_type": "stream",
     "text": [
      "[[1 0 0 0 0]\n",
      " [0 2 0 0 0]\n",
      " [0 0 3 0 0]\n",
      " [0 0 0 4 0]\n",
      " [0 0 0 0 5]]\n"
     ]
    }
   ],
   "source": [
    "a1 = np.diag([1,2,3,4,5])\n",
    "print(a1)"
   ]
  },
  {
   "cell_type": "code",
   "execution_count": null,
   "id": "b8c3c65e-768e-45af-b01d-18dc24e75af0",
   "metadata": {},
   "outputs": [],
   "source": [
    "# Q.18"
   ]
  },
  {
   "cell_type": "code",
   "execution_count": 48,
   "id": "0880e506-b634-43fd-9447-90744af0bfb5",
   "metadata": {},
   "outputs": [
    {
     "name": "stdout",
     "output_type": "stream",
     "text": [
      "list : [10, 20, 30, 40]\n",
      "One-dimensional numpy array : [10 20 30 40]\n",
      "NDIM = 1\n"
     ]
    }
   ],
   "source": [
    "l1 = [10,20,30,40]\n",
    "print(f\"list : {l1}\")\n",
    "a1 = np.array(l1)\n",
    "print(f\"One-dimensional numpy array : {a1}\")\n",
    "print(f\"NDIM = {a1.ndim}\")"
   ]
  },
  {
   "cell_type": "code",
   "execution_count": null,
   "id": "19523423-cf2a-4412-aea5-77b2510ea48a",
   "metadata": {},
   "outputs": [],
   "source": [
    "# Q.19"
   ]
  },
  {
   "cell_type": "code",
   "execution_count": 49,
   "id": "f2075f80-32a6-4d1b-aaf0-e65b64e36a27",
   "metadata": {},
   "outputs": [
    {
     "name": "stdout",
     "output_type": "stream",
     "text": [
      "[[ 2  3  4]\n",
      " [ 5  6  7]\n",
      " [ 8  9 10]]\n"
     ]
    }
   ],
   "source": [
    "s1 = np.arange(2,11).reshape(3,3)\n",
    "print(s1)"
   ]
  },
  {
   "cell_type": "code",
   "execution_count": null,
   "id": "f16d5c2f-1a1e-455d-a6dc-3182cae9c78a",
   "metadata": {},
   "outputs": [],
   "source": [
    "# Q.20"
   ]
  },
  {
   "cell_type": "code",
   "execution_count": 50,
   "id": "284c945e-fba9-4d4c-9112-519523e51217",
   "metadata": {},
   "outputs": [
    {
     "name": "stdout",
     "output_type": "stream",
     "text": [
      "[12 13 14 15 16 17 18 19 20 21 22 23 24 25 26 27 28 29 30 31 32 33 34 35\n",
      " 36 37]\n"
     ]
    }
   ],
   "source": [
    "s2 = np.arange(12,38)\n",
    "print(s2)"
   ]
  },
  {
   "cell_type": "code",
   "execution_count": null,
   "id": "30a7efb5-6690-4211-9f3c-32208baebcd5",
   "metadata": {},
   "outputs": [],
   "source": [
    "# Q.21"
   ]
  },
  {
   "cell_type": "code",
   "execution_count": 52,
   "id": "33ce5275-758b-4814-b798-0712016a1504",
   "metadata": {},
   "outputs": [
    {
     "name": "stdout",
     "output_type": "stream",
     "text": [
      "Original array : [1 2 3 4]\n",
      "Reverse array : [4 3 2 1]\n"
     ]
    }
   ],
   "source": [
    "s3 = np.arange(1,5)\n",
    "print(f\"Original array : {s3}\")\n",
    "s3 = s3[::-1]\n",
    "print(f\"Reverse array : {s3}\")"
   ]
  },
  {
   "cell_type": "code",
   "execution_count": null,
   "id": "8f765ce4-b867-4bd9-a3c3-68067011ba79",
   "metadata": {},
   "outputs": [],
   "source": [
    "# Q.22"
   ]
  },
  {
   "cell_type": "code",
   "execution_count": 61,
   "id": "2cfe1f41-168a-4342-8f31-940bd4be9e17",
   "metadata": {},
   "outputs": [
    {
     "name": "stdout",
     "output_type": "stream",
     "text": [
      "[11 22 33]\n",
      "DTYPE = int64\n",
      "[11. 22. 33.]\n",
      "DTYPE = float16\n"
     ]
    }
   ],
   "source": [
    "n2 = np.array([11,22,33])\n",
    "print(n2)\n",
    "print(f\"DTYPE = {n2.dtype}\")\n",
    "n2 = np.array([11,22,33],dtype=np.float16)\n",
    "print(n2)\n",
    "print(f\"DTYPE = {n2.dtype}\")"
   ]
  },
  {
   "cell_type": "code",
   "execution_count": null,
   "id": "39d3afe2-2a3e-4b84-bf68-6472fbe3783e",
   "metadata": {},
   "outputs": [],
   "source": [
    "# Q.23"
   ]
  },
  {
   "cell_type": "code",
   "execution_count": 63,
   "id": "f6b5ec60-d800-408e-b8b1-479667e3c83b",
   "metadata": {},
   "outputs": [
    {
     "name": "stdout",
     "output_type": "stream",
     "text": [
      "list : [10, 20, 30, 40, 50, 60, 70, 80, 90]\n",
      "Array : [10 20 30 40 50 60 70 80 90]\n"
     ]
    }
   ],
   "source": [
    "l2 = [10,20,30,40,50,60,70,80,90]\n",
    "print(f\"list : {l2}\")\n",
    "a2 = np.array(l2)\n",
    "print(f\"Array : {a2}\")\n"
   ]
  },
  {
   "cell_type": "code",
   "execution_count": null,
   "id": "9c2c1639-eb28-4538-ba0b-9151a3952417",
   "metadata": {},
   "outputs": [],
   "source": [
    "# Q.24"
   ]
  },
  {
   "cell_type": "code",
   "execution_count": 5,
   "id": "9f1dcf3f-a0b9-4a51-8f03-4e5940571b06",
   "metadata": {},
   "outputs": [
    {
     "name": "stdout",
     "output_type": "stream",
     "text": [
      "[1 2 3 4 0]\n"
     ]
    }
   ],
   "source": [
    "a1 = np.array([11,22,33,44,55])\n",
    "a2 = np.remainder(a1,5)\n",
    "print(a2)"
   ]
  },
  {
   "cell_type": "code",
   "execution_count": 6,
   "id": "c3beb023-7ead-4c1f-ba73-508d753b7800",
   "metadata": {},
   "outputs": [],
   "source": [
    "# Q.25"
   ]
  },
  {
   "cell_type": "code",
   "execution_count": 7,
   "id": "5c6c3772-90cf-4347-89f3-be9715e7035f",
   "metadata": {},
   "outputs": [
    {
     "name": "stdout",
     "output_type": "stream",
     "text": [
      "[20 21 22 23 24 25 26 27 28 29 30 31 32 33 34 35 36 37 38 39 40 41 42 43\n",
      " 44 45 46 47 48 49]\n",
      "[2 0 1 2 0 1 2 0 1 2 0 1 2 0 1 2 0 1 2 0 1 2 0 1 2 0 1 2 0 1]\n"
     ]
    }
   ],
   "source": [
    "a1 = np.arange(20,50)\n",
    "print(a1)\n",
    "a2 = np.remainder(a1,3)\n",
    "print(f\"Rema\"a2)"
   ]
  },
  {
   "cell_type": "code",
   "execution_count": null,
   "id": "0dec050e-162d-4527-8c3d-8f1485fcb28e",
   "metadata": {},
   "outputs": [],
   "source": []
  }
 ],
 "metadata": {
  "kernelspec": {
   "display_name": "Python 3 (ipykernel)",
   "language": "python",
   "name": "python3"
  },
  "language_info": {
   "codemirror_mode": {
    "name": "ipython",
    "version": 3
   },
   "file_extension": ".py",
   "mimetype": "text/x-python",
   "name": "python",
   "nbconvert_exporter": "python",
   "pygments_lexer": "ipython3",
   "version": "3.10.12"
  }
 },
 "nbformat": 4,
 "nbformat_minor": 5
}
